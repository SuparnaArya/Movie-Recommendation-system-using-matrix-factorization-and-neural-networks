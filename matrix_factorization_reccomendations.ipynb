{
  "cells": [
    {
      "cell_type": "code",
      "execution_count": null,
      "metadata": {
        "id": "iMWFKdLCTCqV"
      },
      "outputs": [],
      "source": [
        "# Ignore  the warnings\n",
        "import warnings\n",
        "warnings.filterwarnings('always')\n",
        "warnings.filterwarnings('ignore')\n",
        "\n",
        "# data visualisation and manipulation\n",
        "import numpy as np\n",
        "import pandas as pd\n",
        "import matplotlib.pyplot as plt\n",
        "from matplotlib import style\n",
        "\n",
        "\n",
        "%matplotlib inline\n",
        "style.use('fivethirtyeight')\n",
        "\n",
        "#dl libraraies\n",
        "from tensorflow.keras import backend as K\n",
        "from tensorflow.keras.models import Sequential\n",
        "from tensorflow.keras.layers import Dense , Concatenate\n",
        "from tensorflow.keras.optimizers import Adam,SGD\n",
        "from tensorflow.keras.utils import to_categorical\n",
        "#from tensorflow.keras.utils.np_utils import model_to_dot\n",
        "from tensorflow.keras.callbacks import ReduceLROnPlateau\n",
        "\n",
        "\n",
        "from tensorflow.keras.layers import dot\n",
        "from tensorflow.keras.models import Model\n",
        "\n",
        "\n",
        "# specifically for deeplearning.\n",
        "from tensorflow.keras.layers import Dropout, Flatten,Activation,Input,Embedding\n",
        "from tensorflow.keras.layers import Conv2D, MaxPooling2D, BatchNormalization\n",
        "import tensorflow as tf\n",
        "import random as rn\n",
        "from IPython.display import SVG\n",
        "\n",
        "import numpy as np\n",
        "\n"
      ]
    },
    {
      "cell_type": "code",
      "execution_count": null,
      "metadata": {
        "id": "gd0V1ALptBiE"
      },
      "outputs": [],
      "source": [
        "import tensorflow as tf\n",
        "tf.test.gpu_device_name()"
      ]
    },
    {
      "cell_type": "code",
      "execution_count": null,
      "metadata": {
        "id": "fLCk21UnpCOo"
      },
      "outputs": [],
      "source": [
        "from google.colab import drive\n",
        "drive.mount('/content/drive')"
      ]
    },
    {
      "cell_type": "code",
      "execution_count": null,
      "metadata": {
        "id": "rj6yZYbwTCqw"
      },
      "outputs": [],
      "source": [
        "df=pd.read_csv('/content/drive/MyDrive/ratings.csv')"
      ]
    },
    {
      "cell_type": "code",
      "execution_count": null,
      "metadata": {
        "id": "Z84EQQxHTCq-"
      },
      "outputs": [],
      "source": [
        "df.head()"
      ]
    },
    {
      "cell_type": "code",
      "execution_count": null,
      "metadata": {
        "id": "zlp5w0KCTCrG"
      },
      "outputs": [],
      "source": [
        "userlist=df['userId'].unique()"
      ]
    },
    {
      "cell_type": "code",
      "source": [],
      "metadata": {
        "id": "i17VFNxDqOu4"
      },
      "execution_count": null,
      "outputs": []
    },
    {
      "cell_type": "code",
      "execution_count": null,
      "metadata": {
        "id": "bHQsL0eMTCrN"
      },
      "outputs": [],
      "source": [
        "len(df['userId'].unique())"
      ]
    },
    {
      "cell_type": "code",
      "execution_count": null,
      "metadata": {
        "id": "figh4jraozjM"
      },
      "outputs": [],
      "source": [
        "userlist"
      ]
    },
    {
      "cell_type": "code",
      "execution_count": null,
      "metadata": {
        "id": "fhEiwJjSTCrS"
      },
      "outputs": [],
      "source": [
        "df['movieId'].unique()"
      ]
    },
    {
      "cell_type": "code",
      "execution_count": null,
      "metadata": {
        "id": "mXlPmfF4TCrY"
      },
      "outputs": [],
      "source": [
        "len(df['movieId'].unique())"
      ]
    },
    {
      "cell_type": "code",
      "execution_count": null,
      "metadata": {
        "id": "lymfDZC2TCre"
      },
      "outputs": [],
      "source": [
        "df['userId'].isnull().sum()"
      ]
    },
    {
      "cell_type": "code",
      "execution_count": null,
      "metadata": {
        "id": "HX2ROFtGTCrj"
      },
      "outputs": [],
      "source": [
        "df['rating'].isnull().sum()"
      ]
    },
    {
      "cell_type": "code",
      "execution_count": null,
      "metadata": {
        "id": "53G99eLiTCrq"
      },
      "outputs": [],
      "source": [
        "df['movieId'].isnull().sum()"
      ]
    },
    {
      "cell_type": "code",
      "execution_count": null,
      "metadata": {
        "id": "7vwIrz8uTCrv"
      },
      "outputs": [],
      "source": [
        "min_rating=df['rating'].min() # minimum rating\n",
        "min_rating"
      ]
    },
    {
      "cell_type": "code",
      "execution_count": null,
      "metadata": {
        "id": "QU4lD3g2TCry"
      },
      "outputs": [],
      "source": [
        "max_rating=df['rating'].max() # maximum rating\n",
        "max_rating"
      ]
    },
    {
      "cell_type": "code",
      "execution_count": null,
      "metadata": {
        "id": "KyjATogpTCr5",
        "scrolled": true,
        "collapsed": true
      },
      "outputs": [],
      "source": [
        "df['userId'].value_counts(ascending=True)"
      ]
    },
    {
      "cell_type": "code",
      "execution_count": null,
      "metadata": {
        "id": "2cd3UTK_ozjR"
      },
      "outputs": [],
      "source": [
        "df['movieId'].value_counts(ascending=True)"
      ]
    },
    {
      "cell_type": "code",
      "execution_count": null,
      "metadata": {
        "id": "B3CBQlCYTCr9"
      },
      "outputs": [],
      "source": [
        "df['movieId'].unique()"
      ]
    },
    {
      "cell_type": "code",
      "execution_count": null,
      "metadata": {
        "id": "cKvEN5R_ozjS"
      },
      "outputs": [],
      "source": [
        "#df_mf=df.copy()"
      ]
    },
    {
      "cell_type": "code",
      "execution_count": null,
      "metadata": {
        "id": "1H1b__PhozjS"
      },
      "outputs": [],
      "source": [
        "#df_mf"
      ]
    },
    {
      "cell_type": "code",
      "execution_count": null,
      "metadata": {
        "id": "0V82M0YeozjS"
      },
      "outputs": [],
      "source": [
        "np.random.seed(0)\n",
        "test_set=(df.groupby(['userId'])['movieId','rating']\n",
        "          .apply(pd.Series.sample, n=1).reset_index(level=[0, 1]))"
      ]
    },
    {
      "cell_type": "code",
      "execution_count": null,
      "metadata": {
        "id": "qA8f3qTYozjS"
      },
      "outputs": [],
      "source": [
        "test_set.keys"
      ]
    },
    {
      "cell_type": "code",
      "execution_count": null,
      "metadata": {
        "id": "cTqXgrr1ozjT"
      },
      "outputs": [],
      "source": [
        "test_index=test_set['level_1'].to_list()\n",
        "test_index"
      ]
    },
    {
      "cell_type": "code",
      "execution_count": null,
      "metadata": {
        "id": "aREoT1mDozjT"
      },
      "outputs": [],
      "source": [
        "df"
      ]
    },
    {
      "cell_type": "code",
      "execution_count": null,
      "metadata": {
        "id": "_0n_7xXIp8Qj"
      },
      "outputs": [],
      "source": [
        "df.drop(test_index,axis=0,inplace=True)"
      ]
    },
    {
      "cell_type": "code",
      "execution_count": null,
      "metadata": {
        "id": "7zTgZJLhozjT"
      },
      "outputs": [],
      "source": [
        "train_set=df.copy()"
      ]
    },
    {
      "cell_type": "code",
      "execution_count": null,
      "metadata": {
        "id": "l88Pg37PqBWp"
      },
      "outputs": [],
      "source": [
        "train_set"
      ]
    },
    {
      "cell_type": "code",
      "execution_count": null,
      "metadata": {
        "id": "ec6unCT3ozjU"
      },
      "outputs": [],
      "source": [
        "test_set.drop(['level_1'],axis=1,inplace=True)"
      ]
    },
    {
      "cell_type": "code",
      "execution_count": null,
      "metadata": {
        "id": "QC4YUMfVozjU"
      },
      "outputs": [],
      "source": [
        "train_set.drop(['timestamp'],axis=1,inplace=True)\n",
        "train_set"
      ]
    },
    {
      "cell_type": "code",
      "execution_count": null,
      "metadata": {
        "id": "Uw7fEjE-ozjU"
      },
      "outputs": [],
      "source": [
        "test_set"
      ]
    },
    {
      "cell_type": "markdown",
      "metadata": {
        "id": "pc8DQ5XXyRgL"
      },
      "source": [
        "#**1. Using SVD**"
      ]
    },
    {
      "cell_type": "code",
      "execution_count": null,
      "metadata": {
        "id": "9yZEJ_mdrGKz"
      },
      "outputs": [],
      "source": [
        "!pip install surprise"
      ]
    },
    {
      "cell_type": "code",
      "execution_count": null,
      "metadata": {
        "id": "BTZ9KK3oozjV"
      },
      "outputs": [],
      "source": [
        "from surprise import Dataset,Reader\n"
      ]
    },
    {
      "cell_type": "code",
      "execution_count": null,
      "metadata": {
        "id": "wU8cxViJozjV"
      },
      "outputs": [],
      "source": [
        "reader = Reader(rating_scale=(min_rating, max_rating))"
      ]
    },
    {
      "cell_type": "code",
      "execution_count": null,
      "metadata": {
        "id": "AHtxiC-y0MDL"
      },
      "outputs": [],
      "source": [
        "train_set"
      ]
    },
    {
      "cell_type": "markdown",
      "metadata": {
        "id": "BdYgNTQTozjV"
      },
      "source": [
        "!pip install recommenders\n",
        "from recommenders.datasets.python_splitters import python_random_split\n",
        "train, test = python_random_split(df, 0.8)"
      ]
    },
    {
      "cell_type": "code",
      "execution_count": null,
      "metadata": {
        "id": "g5x8lOnBozjW"
      },
      "outputs": [],
      "source": [
        "train_set= Dataset.load_from_df(train_set, reader).build_full_trainset()"
      ]
    },
    {
      "cell_type": "code",
      "execution_count": null,
      "metadata": {
        "id": "Jba2X-VNozjW"
      },
      "outputs": [],
      "source": [
        "test_set= Dataset.load_from_df(test_set, reader).build_full_trainset()"
      ]
    },
    {
      "cell_type": "code",
      "execution_count": null,
      "metadata": {
        "id": "oj3CSN36ozjX"
      },
      "outputs": [],
      "source": [
        "test_df=test_set.build_testset()"
      ]
    },
    {
      "cell_type": "code",
      "execution_count": null,
      "metadata": {
        "id": "9t6FQTBwozjX"
      },
      "outputs": [],
      "source": [
        "!pip install recommenders"
      ]
    },
    {
      "cell_type": "code",
      "execution_count": null,
      "metadata": {
        "id": "Vei8HvgIozjX"
      },
      "outputs": [],
      "source": [
        "from surprise import SVD\n",
        "from recommenders.utils.timer import Timer\n",
        "svd = SVD(random_state=0, n_factors=50,n_epochs=50, verbose=True)\n",
        "\n",
        "with Timer() as train_time:\n",
        "    svd.fit(train_set)\n",
        "\n",
        "print(\"Took {} seconds for training.\".format(train_time.interval))"
      ]
    },
    {
      "cell_type": "code",
      "execution_count": null,
      "metadata": {
        "id": "7HfwLTsNozjY"
      },
      "outputs": [],
      "source": [
        "#from recommenders.evaluation.python_evaluation import (rmse, mae, rsquared, exp_var, map_at_k, ndcg_at_k, precision_at_k,\n",
        "                                                    # recall_at_k, get_top_k_items)\n",
        "#from recommenders.models.surprise.surprise_utils import predict, compute_ranking_predictions"
      ]
    },
    {
      "cell_type": "code",
      "execution_count": null,
      "metadata": {
        "id": "KizVBmruozjY"
      },
      "outputs": [],
      "source": [
        "predictions=svd.test(test_df)"
      ]
    },
    {
      "cell_type": "code",
      "execution_count": null,
      "metadata": {
        "id": "ZZjdoNwmozjY"
      },
      "outputs": [],
      "source": [
        "result = pd.DataFrame(predictions, columns=['user_id', 'movie_id', 'base_event', 'predict_event', 'details'])\n",
        "result.drop(columns = {'details'}, inplace = True)\n",
        "result['erro'] = abs(result['base_event'] - result['predict_event'])\n",
        "result.head()"
      ]
    },
    {
      "cell_type": "code",
      "execution_count": null,
      "metadata": {
        "id": "SGGwsRL7ozjY"
      },
      "outputs": [],
      "source": [
        "!pip install scikit-learn"
      ]
    },
    {
      "cell_type": "code",
      "execution_count": null,
      "metadata": {
        "id": "8gW6bEu8ozjZ"
      },
      "outputs": [],
      "source": [
        "import sklearn.metrics\n",
        "eval_rmse = np.sqrt(sklearn.metrics.mean_squared_error(result['base_event'],result['predict_event']))\n",
        "eval_rmse"
      ]
    },
    {
      "cell_type": "code",
      "execution_count": null,
      "metadata": {
        "id": "0pVsCYs6ozjZ"
      },
      "outputs": [],
      "source": [
        "eval_rsquared = sklearn.metrics.r2_score(result['base_event'],result['predict_event'])\n",
        "eval_rsquared"
      ]
    },
    {
      "cell_type": "markdown",
      "metadata": {
        "id": "Ipw953MKozjZ"
      },
      "source": [
        "#**2. Using NNMF**"
      ]
    },
    {
      "cell_type": "code",
      "execution_count": null,
      "metadata": {
        "id": "-bFM-0nFozjZ"
      },
      "outputs": [],
      "source": [
        "from surprise import NMF\n",
        "from recommenders.utils.timer import Timer\n",
        "nmf = NMF(random_state=0, n_factors=50,n_epochs=20, verbose=True)\n",
        "\n",
        "with Timer() as train_time:\n",
        "    nmf.fit(train_set)\n",
        "\n",
        "print(\"Took {} seconds for training.\".format(train_time.interval))"
      ]
    },
    {
      "cell_type": "code",
      "execution_count": null,
      "metadata": {
        "id": "QG4vmSdoozja"
      },
      "outputs": [],
      "source": [
        "predictions=nmf.test(test_df)"
      ]
    },
    {
      "cell_type": "code",
      "execution_count": null,
      "metadata": {
        "id": "Al3vQjJeozja"
      },
      "outputs": [],
      "source": [
        "nmf['test_rmse']"
      ]
    },
    {
      "cell_type": "code",
      "execution_count": null,
      "metadata": {
        "id": "EJgULww-ozja"
      },
      "outputs": [],
      "source": [
        "eval_rmse = np.sqrt(sklearn.metrics.mean_squared_error(result['base_event'],result['predict_event']))\n",
        "eval_rsquared = sklearn.metrics.r2_score(result['base_event'],result['predict_event'])\n",
        "print(round(eval_rmse,4)*100)"
      ]
    },
    {
      "cell_type": "code",
      "execution_count": null,
      "metadata": {
        "id": "LRllr92hozja"
      },
      "outputs": [],
      "source": [
        "print(round(eval_rsquared,2) )"
      ]
    },
    {
      "cell_type": "markdown",
      "metadata": {
        "id": "T0cnc_34ozjb"
      },
      "source": [
        "#**3.1. Using Neural Networks ( SGD optimizer )**"
      ]
    },
    {
      "cell_type": "code",
      "execution_count": null,
      "metadata": {
        "id": "1wsF53TTCHId"
      },
      "outputs": [],
      "source": [
        "df=pd.read_csv('/content/drive/MyDrive/ratings.csv')"
      ]
    },
    {
      "cell_type": "code",
      "execution_count": null,
      "metadata": {
        "id": "tgQsUFcZGd3J"
      },
      "outputs": [],
      "source": [
        "df_nn=df.copy()"
      ]
    },
    {
      "cell_type": "code",
      "execution_count": null,
      "metadata": {
        "id": "9hFax65dTCsM"
      },
      "outputs": [],
      "source": [
        "# x_train,x_test,y_train,y_test=train_test_split(df[['userId','movieId']],df[['rating']],test_size=0.20,random_state=42)\n",
        "users = df.userId.unique()\n",
        "movies = df.movieId.unique()\n",
        "\n",
        "userid2idx = {o:i for i,o in enumerate(users)}\n",
        "movieid2idx = {o:i for i,o in enumerate(movies)}"
      ]
    },
    {
      "cell_type": "code",
      "execution_count": null,
      "metadata": {
        "id": "_L2UAQlMBFbn"
      },
      "outputs": [],
      "source": [
        "userid2idx"
      ]
    },
    {
      "cell_type": "code",
      "execution_count": null,
      "metadata": {
        "id": "3YwbLICDZbxG"
      },
      "outputs": [],
      "source": [
        "df['userId'] = df['userId'].apply(lambda x: userid2idx[x])\n",
        "df['movieId'] = df['movieId'].apply(lambda x: movieid2idx[x])"
      ]
    },
    {
      "cell_type": "code",
      "execution_count": null,
      "metadata": {
        "id": "8rcLiQGzCWmM"
      },
      "outputs": [],
      "source": [
        "df"
      ]
    },
    {
      "cell_type": "code",
      "execution_count": null,
      "metadata": {
        "id": "geE8zFsjCePT"
      },
      "outputs": [],
      "source": [
        "np.random.seed(0)\n",
        "test_set=(df.groupby(['userId'])['movieId','rating']\n",
        "          .apply(pd.Series.sample, n=1).reset_index(level=[0, 1]))"
      ]
    },
    {
      "cell_type": "code",
      "execution_count": null,
      "metadata": {
        "id": "9-BibLGECpWH"
      },
      "outputs": [],
      "source": [
        "test_index=test_set['level_1'].to_list()\n",
        "#test_index"
      ]
    },
    {
      "cell_type": "code",
      "execution_count": null,
      "metadata": {
        "id": "EXxaZ5ywDVUX"
      },
      "outputs": [],
      "source": [
        "df.drop(test_index,axis=0,inplace=True)"
      ]
    },
    {
      "cell_type": "code",
      "execution_count": null,
      "metadata": {
        "id": "O8p23BpUDXVj"
      },
      "outputs": [],
      "source": [
        "train_df=df.copy()"
      ]
    },
    {
      "cell_type": "code",
      "execution_count": null,
      "metadata": {
        "id": "xxPCU9JjDkLW"
      },
      "outputs": [],
      "source": [
        "train_df.drop(['timestamp'],axis=1,inplace=True)"
      ]
    },
    {
      "cell_type": "code",
      "execution_count": null,
      "metadata": {
        "id": "W69oAhjhDkp1"
      },
      "outputs": [],
      "source": [
        "test_set.drop(['level_1'],axis=1,inplace=True)"
      ]
    },
    {
      "cell_type": "code",
      "execution_count": null,
      "metadata": {
        "id": "wmz9AjbaD0zX"
      },
      "outputs": [],
      "source": [
        "train_df"
      ]
    },
    {
      "cell_type": "code",
      "execution_count": null,
      "metadata": {
        "id": "gyJT0xwrDn56"
      },
      "outputs": [],
      "source": [
        "test_set"
      ]
    },
    {
      "cell_type": "markdown",
      "metadata": {
        "id": "--rzbjy4CR3t"
      },
      "source": [
        "split = np.random.rand(len(df)) < 0.8\n",
        "train = df[split]\n",
        "valid = df[~split]\n",
        "print(train.shape , valid.shape)"
      ]
    },
    {
      "cell_type": "code",
      "execution_count": null,
      "metadata": {
        "id": "ve1yCvhv2qGG"
      },
      "outputs": [],
      "source": [
        "n_latent_factors=50\n",
        "n_movies=len(df_nn['movieId'].unique())\n",
        "n_users=len(df_nn['userId'].unique())"
      ]
    },
    {
      "cell_type": "code",
      "execution_count": null,
      "metadata": {
        "id": "U_qzR2y42rtn"
      },
      "outputs": [],
      "source": [
        "user_input=Input(shape=(1,),name='user_input',dtype='int64')\n",
        "user_embedding=Embedding(n_users,n_latent_factors,name='user_embedding')(user_input)\n",
        "user_vec=Flatten(name='FlattenUsers')(user_embedding)\n",
        "user_vec=Dropout(0.40)(user_vec)"
      ]
    },
    {
      "cell_type": "code",
      "execution_count": null,
      "metadata": {
        "id": "OHHFjQFK2qR3"
      },
      "outputs": [],
      "source": [
        "movie_input=Input(shape=(1,),name='movie_input',dtype='int64')\n",
        "movie_embedding=Embedding(n_movies,n_latent_factors,name='movie_embedding')(movie_input)\n",
        "movie_vec=Flatten(name='FlattenMovies')(movie_embedding)\n",
        "movie_vec=Dropout(0.40)(movie_vec)"
      ]
    },
    {
      "cell_type": "code",
      "execution_count": null,
      "metadata": {
        "id": "CKJMRFguZHWd"
      },
      "outputs": [],
      "source": [
        "sim=dot([user_vec,movie_vec],name='Simalarity-Dot-Product',axes=1)"
      ]
    },
    {
      "cell_type": "code",
      "execution_count": null,
      "metadata": {
        "id": "mw2op22rfaps"
      },
      "outputs": [],
      "source": [
        "nn_inp=Dense(64,activation='relu')(sim)\n",
        "nn_inp=Dropout(0.4)(nn_inp)\n",
        "# nn_inp=BatchNormalization()(nn_inp)\n",
        "nn_inp=Dense(1,activation='relu')(nn_inp)\n",
        "nn_model =Model([user_input, movie_input],nn_inp)\n",
        "nn_model.summary()\n"
      ]
    },
    {
      "cell_type": "code",
      "execution_count": null,
      "metadata": {
        "id": "tvyFq55ChKNA"
      },
      "outputs": [],
      "source": [
        "nn_model.compile(optimizer='SGD'#Adam(lr=1e-3)\n",
        "         ,loss='mse',metrics=[tf.keras.metrics.RootMeanSquaredError()])"
      ]
    },
    {
      "cell_type": "code",
      "execution_count": null,
      "metadata": {
        "id": "qhJqzjaLjgHx"
      },
      "outputs": [],
      "source": [
        "batch_size=128\n",
        "epochs=50"
      ]
    },
    {
      "cell_type": "code",
      "execution_count": null,
      "metadata": {
        "id": "qyQmex3cjjxx"
      },
      "outputs": [],
      "source": [
        "history = nn_model.fit([train_df.userId,train_df.movieId],train_df.rating, batch_size=batch_size,\n",
        "                              epochs =30, validation_data = ([test_set.userId,test_set.movieId],test_set.rating),\n",
        "                              verbose = 1)"
      ]
    },
    {
      "cell_type": "code",
      "execution_count": null,
      "metadata": {
        "id": "2o8VgWY6ozjg"
      },
      "outputs": [],
      "source": [
        "from pylab import rcParams\n",
        "rcParams['figure.figsize'] = 10, 5\n",
        "import matplotlib.pyplot as plt\n",
        "plt.plot(history.history['root_mean_squared_error'] , 'g')\n",
        "plt.plot(history.history['val_root_mean_squared_error'] , 'b')\n",
        "plt.title('model loss')\n",
        "plt.ylabel('loss')\n",
        "plt.xlabel('epoch')\n",
        "plt.legend(['train', 'test'], loc='upper left')\n",
        "plt.grid(True)\n",
        "plt.show()"
      ]
    },
    {
      "cell_type": "code",
      "execution_count": null,
      "metadata": {
        "id": "Y7CSZf0Vozjg"
      },
      "outputs": [],
      "source": [
        "nn_model.evaluate([test_set.userId,test_set.movieId],test_set.rating)"
      ]
    },
    {
      "cell_type": "markdown",
      "metadata": {
        "id": "l43EF6UlzOdM"
      },
      "source": [
        "#**3.2. Using neural Network ( Adam optimizer with .001 leraning rate )**"
      ]
    },
    {
      "cell_type": "code",
      "execution_count": null,
      "metadata": {
        "id": "Q8QiOmeICSKQ"
      },
      "outputs": [],
      "source": [
        "nn_adam_model =Model([user_input, movie_input],nn_inp)\n",
        "nn_adam_model.summary()"
      ]
    },
    {
      "cell_type": "code",
      "execution_count": null,
      "metadata": {
        "id": "a-WvI0Kaozjg"
      },
      "outputs": [],
      "source": [
        "\n",
        "#from tensorflow.keras.metrics import RootMeanSquaredError\n",
        "nn_adam_model.compile(optimizer=Adam(lr=1e-3)\n",
        "                 ,loss='mse',metrics=[tf.keras.metrics.RootMeanSquaredError()])"
      ]
    },
    {
      "cell_type": "code",
      "execution_count": null,
      "metadata": {
        "id": "k_uG7_JRozjh"
      },
      "outputs": [],
      "source": [
        "history_a = nn_adam_model.fit([train_df.userId,train_df.movieId],train_df.rating, batch_size=256,\n",
        "                              epochs =20, validation_data = ([test_set.userId,test_set.movieId],test_set.rating),\n",
        "                              verbose = 1)"
      ]
    },
    {
      "cell_type": "code",
      "execution_count": null,
      "metadata": {
        "id": "O5Ho-Fq1ozjh"
      },
      "outputs": [],
      "source": [
        "plt.plot(history_a.history['root_mean_squared_error'] , 'g')\n",
        "plt.plot(history_a.history['val_root_mean_squared_error'] , 'b')\n",
        "plt.title('model loss')\n",
        "plt.ylabel('loss')\n",
        "plt.xlabel('epoch')\n",
        "plt.legend(['train', 'test'], loc='upper left')\n",
        "plt.grid(True)\n",
        "plt.show()"
      ]
    },
    {
      "cell_type": "code",
      "execution_count": null,
      "metadata": {
        "id": "ADAbnQTNEc0y"
      },
      "outputs": [],
      "source": [
        "nn_adam_model.evaluate([test_set.userId,test_set.movieId],test_set.rating)"
      ]
    }
  ],
  "metadata": {
    "accelerator": "TPU",
    "colab": {
      "machine_shape": "hm",
      "provenance": []
    },
    "kernelspec": {
      "display_name": "Python 3",
      "language": "python",
      "name": "python3"
    },
    "language_info": {
      "codemirror_mode": {
        "name": "ipython",
        "version": 3
      },
      "file_extension": ".py",
      "mimetype": "text/x-python",
      "name": "python",
      "nbconvert_exporter": "python",
      "pygments_lexer": "ipython3",
      "version": "3.7.10"
    }
  },
  "nbformat": 4,
  "nbformat_minor": 0
}